{
 "cells": [
  {
   "cell_type": "code",
   "execution_count": 3,
   "metadata": {
    "scrolled": false
   },
   "outputs": [
    {
     "data": {
      "application/vnd.jupyter.widget-view+json": {
       "model_id": "d69348f1ce434731a80d208269af8b7c",
       "version_major": 2,
       "version_minor": 0
      },
      "text/plain": [
       "VBox()"
      ]
     },
     "metadata": {},
     "output_type": "display_data"
    },
    {
     "data": {
      "application/vnd.jupyter.widget-view+json": {
       "model_id": "",
       "version_major": 2,
       "version_minor": 0
      },
      "text/plain": [
       "FloatProgress(value=0.0, bar_style='info', description='Progress:', layout=Layout(height='25px', width='50%'),…"
      ]
     },
     "metadata": {},
     "output_type": "display_data"
    },
    {
     "name": "stdout",
     "output_type": "stream",
     "text": [
      "+---------------+----------------+----+----+----------------+-------+---------------+---------------+------------------+\n",
      "|  notificaciÃ³n|Nombre municipio|Edad|Sexo|Tipo de contagio|  PaÃ­s|   diagnÃ³stico|  recuperaciÃ³n|Tipo RecuperaciÃ³n|\n",
      "+---------------+----------------+----+----+----------------+-------+---------------+---------------+------------------+\n",
      "| 2/03/2020 0:00|          BOGOTA|  19|   F|       Importado| ITALIA| 6/03/2020 0:00|13/03/2020 0:00|               PCR|\n",
      "| 6/03/2020 0:00|            BUGA|  34|   M|       Importado|ESPAÃ‘A| 9/03/2020 0:00|19/03/2020 0:00|               PCR|\n",
      "| 7/03/2020 0:00|        MEDELLIN|  50|   F|       Importado|ESPAÃ‘A| 9/03/2020 0:00|15/03/2020 0:00|               PCR|\n",
      "| 8/03/2020 0:00|       CARTAGENA|  85|   F|       Importado|    USA|11/03/2020 0:00|17/03/2020 0:00|               PCR|\n",
      "| 9/03/2020 0:00|          BOGOTA|  22|   F|       Importado|ESPAÃ‘A|11/03/2020 0:00|21/03/2020 0:00|               PCR|\n",
      "| 8/03/2020 0:00|          BOGOTA|  28|   F|       Importado|ESPAÃ‘A|11/03/2020 0:00|23/03/2020 0:00|               PCR|\n",
      "|12/03/2020 0:00|          BOGOTA|  36|   F|       Importado|ESPAÃ‘A|12/03/2020 0:00|21/03/2020 0:00|               PCR|\n",
      "|11/03/2020 0:00|          BOGOTA|  42|   F|       Importado|ESPAÃ‘A|12/03/2020 0:00|31/03/2020 0:00|               PCR|\n",
      "|10/03/2020 0:00|           NEIVA|  74|   F|       Importado| ITALIA|12/03/2020 0:00| 9/04/2020 0:00|               PCR|\n",
      "|10/03/2020 0:00|         PALMIRA|  48|   M|       Importado|ESPAÃ‘A|13/03/2020 0:00|21/03/2020 0:00|               PCR|\n",
      "|13/03/2020 0:00|   VILLAVICENCIO|  30|   F|       Importado|ESPAÃ‘A|13/03/2020 0:00|23/03/2020 0:00|               PCR|\n",
      "|11/03/2020 0:00|          BOGOTA|  61|   F|       Importado| ITALIA|13/03/2020 0:00|23/03/2020 0:00|               PCR|\n",
      "|11/03/2020 0:00|          BOGOTA|  73|   F|       Importado|ESPAÃ‘A|14/03/2020 0:00|14/03/2020 0:00|               PCR|\n",
      "|11/03/2020 0:00|          BOGOTA|  54|   M|       Importado|ESPAÃ‘A|14/03/2020 0:00| 7/04/2020 0:00|            Tiempo|\n",
      "|12/03/2020 0:00|        RIONEGRO|  36|   M|       Importado|    USA|14/03/2020 0:00|24/03/2020 0:00|               PCR|\n",
      "|12/03/2020 0:00|          BOGOTA|  18|   F|       Importado|ESPAÃ‘A|14/03/2020 0:00|27/03/2020 0:00|               PCR|\n",
      "|13/03/2020 0:00|            CALI|  49|   M|       Importado|ESPAÃ‘A|13/03/2020 0:00|12/05/2020 0:00|               PCR|\n",
      "|12/03/2020 0:00|    DOSQUEBRADAS|  22|   M|       Importado|    USA|14/03/2020 0:00| 8/04/2020 0:00|               PCR|\n",
      "|13/03/2020 0:00|          CUCUTA|  48|   F|       Importado|ESPAÃ‘A|15/03/2020 0:00|25/03/2020 0:00|               PCR|\n",
      "|12/03/2020 0:00|       MANIZALES|  65|   M|       Importado|    USA|13/03/2020 0:00|26/03/2020 0:00|               PCR|\n",
      "+---------------+----------------+----+----+----------------+-------+---------------+---------------+------------------+\n",
      "only showing top 20 rows"
     ]
    }
   ],
   "source": [
    "#Cargamos los datos desde S3\n",
    "mirdd = spark.read.csv('s3://curso-tet/Refined/covid-limpio.csv',inferSchema = True, header = True)\n",
    "mirdd = mirdd.dropna(\"any\") \n",
    "mirdd.show()"
   ]
  },
  {
   "cell_type": "code",
   "execution_count": 9,
   "metadata": {},
   "outputs": [
    {
     "data": {
      "application/vnd.jupyter.widget-view+json": {
       "model_id": "d81376ed31b446339b48465727ba26a3",
       "version_major": 2,
       "version_minor": 0
      },
      "text/plain": [
       "VBox()"
      ]
     },
     "metadata": {},
     "output_type": "display_data"
    },
    {
     "data": {
      "application/vnd.jupyter.widget-view+json": {
       "model_id": "",
       "version_major": 2,
       "version_minor": 0
      },
      "text/plain": [
       "FloatProgress(value=0.0, bar_style='info', description='Progress:', layout=Layout(height='25px', width='50%'),…"
      ]
     },
     "metadata": {},
     "output_type": "display_data"
    },
    {
     "name": "stdout",
     "output_type": "stream",
     "text": [
      "+----------------+----+----+----------------+-------+---------------+------------------+\n",
      "|Nombre municipio|Edad|Sexo|Tipo de contagio|  PaÃ­s|  recuperaciÃ³n|Tipo RecuperaciÃ³n|\n",
      "+----------------+----+----+----------------+-------+---------------+------------------+\n",
      "|          BOGOTA|  19|   F|       Importado| ITALIA|13/03/2020 0:00|               PCR|\n",
      "|            BUGA|  34|   M|       Importado|ESPAÃ‘A|19/03/2020 0:00|               PCR|\n",
      "|        MEDELLIN|  50|   F|       Importado|ESPAÃ‘A|15/03/2020 0:00|               PCR|\n",
      "|       CARTAGENA|  85|   F|       Importado|    USA|17/03/2020 0:00|               PCR|\n",
      "|          BOGOTA|  22|   F|       Importado|ESPAÃ‘A|21/03/2020 0:00|               PCR|\n",
      "|          BOGOTA|  28|   F|       Importado|ESPAÃ‘A|23/03/2020 0:00|               PCR|\n",
      "|          BOGOTA|  36|   F|       Importado|ESPAÃ‘A|21/03/2020 0:00|               PCR|\n",
      "|          BOGOTA|  42|   F|       Importado|ESPAÃ‘A|31/03/2020 0:00|               PCR|\n",
      "|           NEIVA|  74|   F|       Importado| ITALIA| 9/04/2020 0:00|               PCR|\n",
      "|         PALMIRA|  48|   M|       Importado|ESPAÃ‘A|21/03/2020 0:00|               PCR|\n",
      "|   VILLAVICENCIO|  30|   F|       Importado|ESPAÃ‘A|23/03/2020 0:00|               PCR|\n",
      "|          BOGOTA|  61|   F|       Importado| ITALIA|23/03/2020 0:00|               PCR|\n",
      "|          BOGOTA|  73|   F|       Importado|ESPAÃ‘A|14/03/2020 0:00|               PCR|\n",
      "|          BOGOTA|  54|   M|       Importado|ESPAÃ‘A| 7/04/2020 0:00|            Tiempo|\n",
      "|        RIONEGRO|  36|   M|       Importado|    USA|24/03/2020 0:00|               PCR|\n",
      "|          BOGOTA|  18|   F|       Importado|ESPAÃ‘A|27/03/2020 0:00|               PCR|\n",
      "|            CALI|  49|   M|       Importado|ESPAÃ‘A|12/05/2020 0:00|               PCR|\n",
      "|    DOSQUEBRADAS|  22|   M|       Importado|    USA| 8/04/2020 0:00|               PCR|\n",
      "|          CUCUTA|  48|   F|       Importado|ESPAÃ‘A|25/03/2020 0:00|               PCR|\n",
      "|       MANIZALES|  65|   M|       Importado|    USA|26/03/2020 0:00|               PCR|\n",
      "+----------------+----+----+----------------+-------+---------------+------------------+\n",
      "only showing top 20 rows"
     ]
    }
   ],
   "source": [
    "#Eliminamos columna de notificación\n",
    "mirdd = mirdd.dropna(\"any\") \n",
    "mirdd = mirdd.drop(\"notificaciÃ³n\",\"diagnÃ³stico\")\n",
    "mirdd.show()"
   ]
  },
  {
   "cell_type": "code",
   "execution_count": 12,
   "metadata": {},
   "outputs": [
    {
     "data": {
      "application/vnd.jupyter.widget-view+json": {
       "model_id": "",
       "version_major": 2,
       "version_minor": 0
      },
      "text/plain": [
       "FloatProgress(value=0.0, bar_style='info', description='Progress:', layout=Layout(height='25px', width='50%'),…"
      ]
     },
     "metadata": {},
     "output_type": "display_data"
    },
    {
     "data": {
      "application/vnd.jupyter.widget-view+json": {
       "model_id": "",
       "version_major": 2,
       "version_minor": 0
      },
      "text/plain": [
       "FloatProgress(value=0.0, bar_style='info', description='Progress:', layout=Layout(height='25px', width='50%'),…"
      ]
     },
     "metadata": {},
     "output_type": "display_data"
    }
   ],
   "source": [
    "%%spark -o mirdd"
   ]
  },
  {
   "cell_type": "code",
   "execution_count": 13,
   "metadata": {},
   "outputs": [],
   "source": [
    "%%local \n",
    "import pandas as pd"
   ]
  },
  {
   "cell_type": "code",
   "execution_count": 14,
   "metadata": {
    "scrolled": false
   },
   "outputs": [
    {
     "name": "stdout",
     "output_type": "stream",
     "text": [
      "Estadistica descriptiva \n",
      "             Edad\n",
      "count  65.000000\n",
      "mean   40.430769\n",
      "std    17.314164\n",
      "min    18.000000\n",
      "25%    24.000000\n",
      "50%    37.000000\n",
      "75%    54.000000\n",
      "max    85.000000\n"
     ]
    },
    {
     "data": {
      "application/vnd.jupyter.widget-view+json": {
       "model_id": "45912934dc1944b29fe1bf4cfd27244a",
       "version_major": 2,
       "version_minor": 0
      },
      "text/plain": [
       "VBox(children=(HBox(children=(HTML(value='Type:'), Button(description='Table', layout=Layout(width='70px'), st…"
      ]
     },
     "metadata": {},
     "output_type": "display_data"
    },
    {
     "data": {
      "application/vnd.jupyter.widget-view+json": {
       "model_id": "613dcb4978fb4aefb482f53871f7aef1",
       "version_major": 2,
       "version_minor": 0
      },
      "text/plain": [
       "Output()"
      ]
     },
     "metadata": {},
     "output_type": "display_data"
    }
   ],
   "source": [
    "%%local\n",
    "df = pd.DataFrame(mirdd)\n",
    "print(\"Estadistica descriptiva: \\n\",df.describe())\n",
    "df"
   ]
  },
  {
   "cell_type": "code",
   "execution_count": 15,
   "metadata": {},
   "outputs": [
    {
     "data": {
      "application/vnd.jupyter.widget-view+json": {
       "model_id": "243b0501499a454dbb64f7cae9335fb9",
       "version_major": 2,
       "version_minor": 0
      },
      "text/plain": [
       "VBox()"
      ]
     },
     "metadata": {},
     "output_type": "display_data"
    },
    {
     "data": {
      "application/vnd.jupyter.widget-view+json": {
       "model_id": "",
       "version_major": 2,
       "version_minor": 0
      },
      "text/plain": [
       "FloatProgress(value=0.0, bar_style='info', description='Progress:', layout=Layout(height='25px', width='50%'),…"
      ]
     },
     "metadata": {},
     "output_type": "display_data"
    },
    {
     "name": "stdout",
     "output_type": "stream",
     "text": [
      "+----------------+------------------+\n",
      "|Nombre municipio|         avg(Edad)|\n",
      "+----------------+------------------+\n",
      "|          SOACHA|              24.0|\n",
      "|           NEIVA|              74.0|\n",
      "|      SUBACHOQUE|              29.0|\n",
      "|          CAJICA|              38.5|\n",
      "|    DOSQUEBRADAS|              22.0|\n",
      "|         PEREIRA|              25.0|\n",
      "|   VILLAVICENCIO|              30.0|\n",
      "|        RIONEGRO|              36.0|\n",
      "|            BUGA|              34.0|\n",
      "|          CUCUTA|              51.0|\n",
      "|         ARMENIA|              32.0|\n",
      "|            CALI|45.285714285714285|\n",
      "|          BOGOTA|          41.15625|\n",
      "|   FLORIDABLANCA|              24.0|\n",
      "|     BUCARAMANGA|              39.0|\n",
      "|       CARTAGENA|43.333333333333336|\n",
      "|         PALMIRA|              48.0|\n",
      "|    BARRANQUILLA|              20.5|\n",
      "|       MANIZALES|              65.0|\n",
      "|        MEDELLIN|              52.5|\n",
      "+----------------+------------------+"
     ]
    }
   ],
   "source": [
    "#Promedio de casos positivos por edad segun su municipio\n",
    "df1 = mirdd.groupby('Nombre municipio').agg({'Edad':'mean'})\n",
    "df1.show()"
   ]
  },
  {
   "cell_type": "code",
   "execution_count": 16,
   "metadata": {},
   "outputs": [
    {
     "data": {
      "application/vnd.jupyter.widget-view+json": {
       "model_id": "b92bbac37c83477b8a499b32e8330453",
       "version_major": 2,
       "version_minor": 0
      },
      "text/plain": [
       "VBox()"
      ]
     },
     "metadata": {},
     "output_type": "display_data"
    },
    {
     "data": {
      "application/vnd.jupyter.widget-view+json": {
       "model_id": "",
       "version_major": 2,
       "version_minor": 0
      },
      "text/plain": [
       "FloatProgress(value=0.0, bar_style='info', description='Progress:', layout=Layout(height='25px', width='50%'),…"
      ]
     },
     "metadata": {},
     "output_type": "display_data"
    },
    {
     "name": "stdout",
     "output_type": "stream",
     "text": [
      "+----------------+---------+\n",
      "|Nombre municipio|max(Edad)|\n",
      "+----------------+---------+\n",
      "|          SOACHA|       24|\n",
      "|           NEIVA|       74|\n",
      "|      SUBACHOQUE|       29|\n",
      "|          CAJICA|       45|\n",
      "|    DOSQUEBRADAS|       22|\n",
      "|         PEREIRA|       29|\n",
      "|   VILLAVICENCIO|       30|\n",
      "|        RIONEGRO|       36|\n",
      "|            BUGA|       34|\n",
      "|          CUCUTA|       54|\n",
      "|         ARMENIA|       46|\n",
      "|            CALI|       56|\n",
      "|          BOGOTA|       73|\n",
      "|   FLORIDABLANCA|       24|\n",
      "|     BUCARAMANGA|       39|\n",
      "|       CARTAGENA|       85|\n",
      "|         PALMIRA|       48|\n",
      "|    BARRANQUILLA|       21|\n",
      "|       MANIZALES|       65|\n",
      "|        MEDELLIN|       55|\n",
      "+----------------+---------+"
     ]
    }
   ],
   "source": [
    "#Cantidad maxima de casos positivos por covid 19 en los diferentes municipios\n",
    "mirdd.groupby('Nombre municipio').agg({'Edad':'max'}).show()"
   ]
  },
  {
   "cell_type": "code",
   "execution_count": 17,
   "metadata": {},
   "outputs": [
    {
     "data": {
      "application/vnd.jupyter.widget-view+json": {
       "model_id": "e69e3db0e97b4292a617bac865efec00",
       "version_major": 2,
       "version_minor": 0
      },
      "text/plain": [
       "VBox()"
      ]
     },
     "metadata": {},
     "output_type": "display_data"
    },
    {
     "data": {
      "application/vnd.jupyter.widget-view+json": {
       "model_id": "",
       "version_major": 2,
       "version_minor": 0
      },
      "text/plain": [
       "FloatProgress(value=0.0, bar_style='info', description='Progress:', layout=Layout(height='25px', width='50%'),…"
      ]
     },
     "metadata": {},
     "output_type": "display_data"
    },
    {
     "name": "stdout",
     "output_type": "stream",
     "text": [
      "+----------------+---------+\n",
      "|Nombre municipio|min(Edad)|\n",
      "+----------------+---------+\n",
      "|          SOACHA|       24|\n",
      "|           NEIVA|       74|\n",
      "|      SUBACHOQUE|       29|\n",
      "|          CAJICA|       32|\n",
      "|    DOSQUEBRADAS|       22|\n",
      "|         PEREIRA|       21|\n",
      "|   VILLAVICENCIO|       30|\n",
      "|        RIONEGRO|       36|\n",
      "|            BUGA|       34|\n",
      "|          CUCUTA|       48|\n",
      "|         ARMENIA|       18|\n",
      "|            CALI|       26|\n",
      "|          BOGOTA|       18|\n",
      "|   FLORIDABLANCA|       24|\n",
      "|     BUCARAMANGA|       39|\n",
      "|       CARTAGENA|       21|\n",
      "|         PALMIRA|       48|\n",
      "|    BARRANQUILLA|       20|\n",
      "|       MANIZALES|       65|\n",
      "|        MEDELLIN|       50|\n",
      "+----------------+---------+"
     ]
    }
   ],
   "source": [
    "#Cantidad minima de edad de casos positivos por covid 19\n",
    "mirdd.groupby('Nombre municipio').agg({'Edad':'min'}).show()"
   ]
  },
  {
   "cell_type": "code",
   "execution_count": 18,
   "metadata": {},
   "outputs": [
    {
     "data": {
      "application/vnd.jupyter.widget-view+json": {
       "model_id": "eb703dad94a04c359f0f708e7af67fee",
       "version_major": 2,
       "version_minor": 0
      },
      "text/plain": [
       "VBox()"
      ]
     },
     "metadata": {},
     "output_type": "display_data"
    },
    {
     "data": {
      "application/vnd.jupyter.widget-view+json": {
       "model_id": "",
       "version_major": 2,
       "version_minor": 0
      },
      "text/plain": [
       "FloatProgress(value=0.0, bar_style='info', description='Progress:', layout=Layout(height='25px', width='50%'),…"
      ]
     },
     "metadata": {},
     "output_type": "display_data"
    },
    {
     "name": "stdout",
     "output_type": "stream",
     "text": [
      "+----------------+-----------------------+\n",
      "|Nombre municipio|count(Tipo de contagio)|\n",
      "+----------------+-----------------------+\n",
      "|          SOACHA|                      1|\n",
      "|           NEIVA|                      1|\n",
      "|      SUBACHOQUE|                      1|\n",
      "|          CAJICA|                      2|\n",
      "|    DOSQUEBRADAS|                      1|\n",
      "|         PEREIRA|                      2|\n",
      "|   VILLAVICENCIO|                      1|\n",
      "|        RIONEGRO|                      1|\n",
      "|            BUGA|                      1|\n",
      "|          CUCUTA|                      2|\n",
      "|         ARMENIA|                      2|\n",
      "|            CALI|                      7|\n",
      "|          BOGOTA|                     32|\n",
      "|   FLORIDABLANCA|                      1|\n",
      "|     BUCARAMANGA|                      1|\n",
      "|       CARTAGENA|                      3|\n",
      "|         PALMIRA|                      1|\n",
      "|    BARRANQUILLA|                      2|\n",
      "|       MANIZALES|                      1|\n",
      "|        MEDELLIN|                      2|\n",
      "+----------------+-----------------------+"
     ]
    }
   ],
   "source": [
    "#Numero de tipos de contagio de covid 19 por municipio\n",
    "mirdd.groupby('Nombre municipio').agg({'Tipo de contagio':'count'}).show()"
   ]
  },
  {
   "cell_type": "code",
   "execution_count": 19,
   "metadata": {},
   "outputs": [
    {
     "data": {
      "application/vnd.jupyter.widget-view+json": {
       "model_id": "59b75adb9b6148739f83e9e93e381bca",
       "version_major": 2,
       "version_minor": 0
      },
      "text/plain": [
       "VBox()"
      ]
     },
     "metadata": {},
     "output_type": "display_data"
    },
    {
     "data": {
      "application/vnd.jupyter.widget-view+json": {
       "model_id": "",
       "version_major": 2,
       "version_minor": 0
      },
      "text/plain": [
       "FloatProgress(value=0.0, bar_style='info', description='Progress:', layout=Layout(height='25px', width='50%'),…"
      ]
     },
     "metadata": {},
     "output_type": "display_data"
    },
    {
     "name": "stdout",
     "output_type": "stream",
     "text": [
      "+----+-----------+\n",
      "|Sexo|count(Sexo)|\n",
      "+----+-----------+\n",
      "|   M|         38|\n",
      "|   F|         27|\n",
      "+----+-----------+"
     ]
    }
   ],
   "source": [
    "#Numero de Hombres y Mujeres que han dado positivo por covid 19\n",
    "mirdd.groupby('Sexo').agg({'Sexo':'count'}).show()"
   ]
  },
  {
   "cell_type": "code",
   "execution_count": null,
   "metadata": {},
   "outputs": [],
   "source": []
  }
 ],
 "metadata": {
  "kernelspec": {
   "display_name": "PySpark",
   "language": "",
   "name": "pysparkkernel"
  },
  "language_info": {
   "codemirror_mode": {
    "name": "python",
    "version": 2
   },
   "mimetype": "text/x-python",
   "name": "pyspark",
   "pygments_lexer": "python2"
  }
 },
 "nbformat": 4,
 "nbformat_minor": 4
}
